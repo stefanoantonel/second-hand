{
 "cells": [
  {
   "cell_type": "code",
   "execution_count": 1,
   "id": "247ba39f-2bf4-4c83-ac52-7dd7335a8070",
   "metadata": {},
   "outputs": [],
   "source": [
    "from bs4 import BeautifulSoup\n",
    "import requests"
   ]
  },
  {
   "cell_type": "code",
   "execution_count": 2,
   "id": "74221a54-45fd-44f1-a50d-18db887f8f45",
   "metadata": {},
   "outputs": [],
   "source": [
    "BASE_URL = 'https://www.digitec.ch'"
   ]
  },
  {
   "cell_type": "code",
   "execution_count": 3,
   "id": "4ed1b773-e85b-4f54-b3ec-ae077e3e485f",
   "metadata": {},
   "outputs": [],
   "source": [
    "def get_soup(url):\n",
    "    content = requests.get(url).text\n",
    "    soup = BeautifulSoup(content, 'html.parser')\n",
    "    return soup"
   ]
  },
  {
   "cell_type": "code",
   "execution_count": 4,
   "id": "bd08e40b-81ef-4c11-9148-192ac76f5630",
   "metadata": {},
   "outputs": [],
   "source": [
    "soup = get_soup('https://www.digitec.ch/en/s1/product/google-pixel-7a-128-gb-charcoal-610-sim-esim-64-mpx-5g-smartphones-32960864')"
   ]
  },
  {
   "cell_type": "code",
   "execution_count": 5,
   "id": "0a46ad52-4b9f-4333-9ca1-4448fa97aaeb",
   "metadata": {},
   "outputs": [],
   "source": [
    "def get_initial_price(soup):\n",
    "    details = soup.find('div', attrs={'class': 'productDetail'})\n",
    "    strong = details.find('strong')\n",
    "    return strong.text"
   ]
  },
  {
   "cell_type": "code",
   "execution_count": 6,
   "id": "c4443017-6bd1-43f1-b464-9c30911ee58c",
   "metadata": {},
   "outputs": [],
   "source": [
    "def check_second_hand(soup, used_prices):\n",
    "    used = soup.find('h4', string=\"Buy secondhand\")\n",
    "    if used is None:\n",
    "        return\n",
    "\n",
    "    for sibling in used.next_siblings:\n",
    "        if sibling.a:\n",
    "            price = sibling.a.div.strong.text\n",
    "            used_prices.append(price)\n",
    "    return used_prices"
   ]
  },
  {
   "cell_type": "code",
   "execution_count": 7,
   "id": "900ddcd9-7103-4e26-b965-a311411dc9e0",
   "metadata": {},
   "outputs": [],
   "source": [
    "def find_other_links(soup):\n",
    "    color_section = soup.find('h4', string=\"Colour\")\n",
    "    other_phones = color_section.next_sibling\n",
    "    a_tags = other_phones.find_all('a')\n",
    "\n",
    "    links_other_devices = []\n",
    "    for a_tag in a_tags:\n",
    "        if 'href' not in a_tag.attrs:\n",
    "            continue\n",
    "        links_other_devices.append(a_tag['href'])\n",
    "    return links_other_devices"
   ]
  },
  {
   "cell_type": "code",
   "execution_count": 8,
   "id": "ac6b1aef-18db-40e8-b599-42225a22471d",
   "metadata": {},
   "outputs": [],
   "source": [
    "def crawling(url, title):\n",
    "    used_prices = []\n",
    "    \n",
    "    soup = get_soup(url)\n",
    "    initial_price = get_initial_price(soup)\n",
    "    check_second_hand(soup, used_prices)\n",
    "\n",
    "    for page in find_other_links(soup):\n",
    "        other_soup = get_soup(f'{BASE_URL}{page}')\n",
    "        check_second_hand(other_soup, used_prices)\n",
    "    print(f'---{title}---> New: {[initial_price]} > Used: {used_prices}')"
   ]
  },
  {
   "cell_type": "code",
   "execution_count": 9,
   "id": "dace594c-bf45-429e-97a0-9de9f7df03a0",
   "metadata": {},
   "outputs": [],
   "source": [
    "pages = [\n",
    "    {\n",
    "        'urls': ['https://www.digitec.ch/en/s1/product/google-pixel-7a-128-gb-charcoal-610-sim-esim-64-mpx-5g-smartphones-32960864'],\n",
    "        'title': 'Pixel 7a'\n",
    "    },\n",
    "    {\n",
    "        'urls': ['https://www.digitec.ch/en/s1/product/google-pixel-6a-128-gb-charcoal-610-sim-esim-1220-mpx-5g-smartphones-21531648'],\n",
    "        'title': 'Pixel 6a'\n",
    "    },\n",
    "    {\n",
    "        'urls': [\n",
    "            'https://www.digitec.ch/en/s1/product/apple-ipad-2022-10-gen-wlan-only-1090-64-gb-yellow-tablets-22715682',\n",
    "            'https://www.digitec.ch/en/s1/product/apple-ipad-2022-10-gen-wlan-only-1090-64-gb-silver-tablets-22715680'\n",
    "        ],\n",
    "        'title': 'iPad 10'\n",
    "    },\n",
    "    {\n",
    "        'urls': ['https://www.digitec.ch/en/s1/product/apple-iphone-13-128-gb-pink-610-sim-esim-12-mpx-5g-smartphones-16644873'],\n",
    "        'title': 'iPhone 13'\n",
    "    },\n",
    "]"
   ]
  },
  {
   "cell_type": "code",
   "execution_count": 10,
   "id": "e63e015a-aa7f-4fb4-8bd5-a31b708a77e3",
   "metadata": {},
   "outputs": [
    {
     "name": "stdout",
     "output_type": "stream",
     "text": [
      "---Pixel 7a---> New: ['469.–'] > Used: []\n",
      "---Pixel 6a---> New: ['301.–'] > Used: []\n",
      "---iPad 10---> New: ['458.–'] > Used: []\n",
      "---iPad 10---> New: ['479.–'] > Used: []\n",
      "---iPhone 13---> New: ['668.–'] > Used: ['680.–']\n"
     ]
    }
   ],
   "source": [
    "for page in pages:\n",
    "    for url in page['urls']:\n",
    "        crawling(url, page['title'])"
   ]
  },
  {
   "cell_type": "code",
   "execution_count": null,
   "id": "d7eab2e8-917d-45a5-883e-f9f5dd5eff65",
   "metadata": {},
   "outputs": [],
   "source": []
  }
 ],
 "metadata": {
  "kernelspec": {
   "display_name": "Python 3 (ipykernel)",
   "language": "python",
   "name": "python3"
  },
  "language_info": {
   "codemirror_mode": {
    "name": "ipython",
    "version": 3
   },
   "file_extension": ".py",
   "mimetype": "text/x-python",
   "name": "python",
   "nbconvert_exporter": "python",
   "pygments_lexer": "ipython3",
   "version": "3.10.9"
  }
 },
 "nbformat": 4,
 "nbformat_minor": 5
}
