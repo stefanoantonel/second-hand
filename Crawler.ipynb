{
 "cells": [
  {
   "cell_type": "code",
   "execution_count": null,
   "id": "247ba39f-2bf4-4c83-ac52-7dd7335a8070",
   "metadata": {},
   "outputs": [],
   "source": [
    "from bs4 import BeautifulSoup\n",
    "import requests\n",
    "import json"
   ]
  },
  {
   "cell_type": "code",
   "execution_count": null,
   "id": "74221a54-45fd-44f1-a50d-18db887f8f45",
   "metadata": {},
   "outputs": [],
   "source": [
    "BASE_URL = 'https://www.digitec.ch'"
   ]
  },
  {
   "cell_type": "code",
   "execution_count": null,
   "id": "4ed1b773-e85b-4f54-b3ec-ae077e3e485f",
   "metadata": {},
   "outputs": [],
   "source": [
    "def get_soup(url):\n",
    "    content = requests.get(url).text\n",
    "    soup = BeautifulSoup(content, 'html.parser')\n",
    "    return soup"
   ]
  },
  {
   "cell_type": "code",
   "execution_count": null,
   "id": "bd08e40b-81ef-4c11-9148-192ac76f5630",
   "metadata": {},
   "outputs": [],
   "source": [
    "def get_initial_price(soup):\n",
    "    details = soup.find('div', attrs={'class': 'productDetail'})\n",
    "    strong = details.find('strong')\n",
    "    return strong.text"
   ]
  },
  {
   "cell_type": "code",
   "execution_count": null,
   "id": "c4443017-6bd1-43f1-b464-9c30911ee58c",
   "metadata": {},
   "outputs": [],
   "source": [
    "def check_second_hand(soup, used_prices):\n",
    "    used = soup.find('h4', string=\"Buy secondhand\")\n",
    "    if used is None:\n",
    "        return used_prices\n",
    "\n",
    "    for sibling in used.next_siblings:\n",
    "        if sibling.a:\n",
    "            price = sibling.a.div.strong.text\n",
    "            url = sibling.a['href']\n",
    "            used_prices.append(f\"<a href='{BASE_URL}/{url}' target='_blank'>{price}</a>\")\n",
    "    return used_prices"
   ]
  },
  {
   "cell_type": "code",
   "execution_count": null,
   "id": "900ddcd9-7103-4e26-b965-a311411dc9e0",
   "metadata": {},
   "outputs": [],
   "source": [
    "def find_other_links(soup):\n",
    "    color_section = soup.find('h2', string=\"Colour\")\n",
    "    other_phones = color_section.next_sibling\n",
    "    a_tags = other_phones.find_all('a')\n",
    "\n",
    "    links_other_devices = []\n",
    "    for a_tag in a_tags:\n",
    "        if 'href' not in a_tag.attrs:\n",
    "            continue\n",
    "        links_other_devices.append(a_tag['href'])\n",
    "    return links_other_devices"
   ]
  },
  {
   "cell_type": "code",
   "execution_count": null,
   "id": "8d7b4975-24e4-445c-b617-354f750ad814",
   "metadata": {},
   "outputs": [],
   "source": [
    "html_body = \"<tr></tr>\""
   ]
  },
  {
   "cell_type": "code",
   "execution_count": null,
   "id": "ac6b1aef-18db-40e8-b599-42225a22471d",
   "metadata": {},
   "outputs": [],
   "source": [
    "def crawling(url, title):\n",
    "    global html_body\n",
    "    used_prices = []\n",
    "\n",
    "    soup = get_soup(url)\n",
    "    initial_price = get_initial_price(soup)\n",
    "    check_second_hand(soup, used_prices)\n",
    "\n",
    "    for page in find_other_links(soup):\n",
    "        page_url = f'{BASE_URL}{page}'\n",
    "        other_soup = get_soup(page_url)\n",
    "        check_second_hand(other_soup, used_prices)\n",
    "    result = f'--- {title} ---> \\t New {[initial_price]} > Used: {used_prices}'\n",
    "    initial_title = f\"<a href='{url}' target='_blank'>{title}</a>\"\n",
    "    table_data = f\"<td>{initial_title}</td><td>{initial_price}</td><td>{used_prices}</td>\"\n",
    "    html_body += f\"<tr>{table_data}</tr>\"\n",
    "    print(result)\n"
   ]
  },
  {
   "cell_type": "code",
   "execution_count": null,
   "id": "002b3d7e-9ab4-4db8-88f6-c9c68a8d27bf",
   "metadata": {},
   "outputs": [],
   "source": [
    "#============================================================"
   ]
  },
  {
   "cell_type": "code",
   "execution_count": null,
   "id": "0cad3430-8aa3-4e09-827d-19295b16fc38",
   "metadata": {},
   "outputs": [],
   "source": [
    "    url = 'https://www.digitec.ch/en/s1/product/google-pixel-7a-128-gb-charcoal-610-sim-esim-64-mpx-5g-smartphones-32960864'\n",
    "\n",
    "    used_prices = []\n",
    "    soup = get_soup(url)\n",
    "    # initial_price = get_initial_price(soup)\n",
    "    # check_second_hand(soup, used_prices)\n",
    "\n",
    "    # print(soup)\n",
    "    color_section = soup.find('h2', string=\"Colour\")\n",
    "    # print(color_section)\n",
    "    other_phones = color_section.next_sibling\n",
    "    a_tags = other_phones.find_all('a')\n",
    "\n",
    "    links_other_devices = []\n",
    "    for a_tag in a_tags:\n",
    "        if 'href' not in a_tag.attrs:\n",
    "            continue\n",
    "        links_other_devices.append(a_tag['href'])\n",
    "    # return links_other_devices\n",
    "\n",
    "    # for page in find_other_links(soup):\n",
    "    #     print(page)\n",
    "    #     page_url = f'{BASE_URL}{page}'\n",
    "    #     other_soup = get_soup(page_url)\n",
    "    #     check_second_hand(other_soup, used_prices)"
   ]
  },
  {
   "cell_type": "code",
   "execution_count": null,
   "id": "e8128b3c-08f8-41ac-973a-b2cbbe09a582",
   "metadata": {},
   "outputs": [],
   "source": [
    "# soup"
   ]
  },
  {
   "cell_type": "code",
   "execution_count": null,
   "id": "28186f0c-2464-4abe-9a85-a0b00c9ac2ee",
   "metadata": {},
   "outputs": [],
   "source": [
    "#=============================================================="
   ]
  },
  {
   "cell_type": "code",
   "execution_count": null,
   "id": "dace594c-bf45-429e-97a0-9de9f7df03a0",
   "metadata": {},
   "outputs": [],
   "source": [
    "with open('./pages.json') as f:\n",
    "    pages = json.loads(f.read())"
   ]
  },
  {
   "cell_type": "code",
   "execution_count": null,
   "id": "b4497827-7ca6-4dee-8033-ad23b2c5d75a",
   "metadata": {},
   "outputs": [],
   "source": [
    "REFURBISHED_URL = 'https://www.apple.com/ch-de/shop/refurbished/ipad/ipad'\n",
    "def generate_html(html_body):\n",
    "    html = f'''\n",
    "        <!DOCTYPE html>\n",
    "        <html>\n",
    "            <head>\n",
    "                <meta name=\"viewport\" content=\"width=device-width, initial-scale=1.0\">\n",
    "                <style>\n",
    "                    table, th, td {{\n",
    "                        border: 1px solid black;\n",
    "                        border-collapse: collapse;\n",
    "                        width: 100%\n",
    "                    }}\n",
    "                    th, td {{\n",
    "                        padding: 15px;\n",
    "                    }}\n",
    "                </style>\n",
    "            </head>\n",
    "            <body>\n",
    "                <table>\n",
    "                    <tr>\n",
    "                        <th>Phone</th>\n",
    "                        <th>New</th>\n",
    "                        <th>Used</th>\n",
    "                    </tr>\n",
    "                    {html_body}\n",
    "                </table>\n",
    "                <br />\n",
    "                <p>\n",
    "                    <a href={REFURBISHED_URL} target=\"_blank\">Refurbished</a>\n",
    "                </p>\n",
    "            </body>\n",
    "        </html>\n",
    "    '''\n",
    "    with open('./dist/index.html', 'w') as f:\n",
    "        f.write(html)"
   ]
  },
  {
   "cell_type": "code",
   "execution_count": null,
   "id": "e63e015a-aa7f-4fb4-8bd5-a31b708a77e3",
   "metadata": {},
   "outputs": [],
   "source": [
    "for page in pages:\n",
    "    for url in page['urls']:\n",
    "        crawling(url, page['title'])\n",
    "\n",
    "generate_html(html_body)"
   ]
  },
  {
   "cell_type": "code",
   "execution_count": null,
   "id": "d7eab2e8-917d-45a5-883e-f9f5dd5eff65",
   "metadata": {},
   "outputs": [],
   "source": []
  }
 ],
 "metadata": {
  "kernelspec": {
   "display_name": "Python 3 (ipykernel)",
   "language": "python",
   "name": "python3"
  },
  "language_info": {
   "codemirror_mode": {
    "name": "ipython",
    "version": 3
   },
   "file_extension": ".py",
   "mimetype": "text/x-python",
   "name": "python",
   "nbconvert_exporter": "python",
   "pygments_lexer": "ipython3",
   "version": "3.10.9"
  }
 },
 "nbformat": 4,
 "nbformat_minor": 5
}
